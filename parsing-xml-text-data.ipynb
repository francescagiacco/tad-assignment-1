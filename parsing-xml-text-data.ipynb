{
 "cells": [
  {
   "cell_type": "markdown",
   "id": "48372d15",
   "metadata": {},
   "source": [
    "# Assignment 1 (Part 2) - Parsing XML text data "
   ]
  },
  {
   "cell_type": "markdown",
   "id": "1ca8491c",
   "metadata": {},
   "source": [
    "### Using a scraper, get a list of all the elements. For each element, get the name of the speaker, and a single string containing everything that they said. Put this into a dataframe. "
   ]
  },
  {
   "cell_type": "code",
   "execution_count": 133,
   "id": "f98039dd",
   "metadata": {},
   "outputs": [],
   "source": [
    "import requests\n",
    "import pandas as pd \n",
    "from bs4 import BeautifulSoup \n",
    "from bs4.element import Comment\n",
    "import re\n",
    "import numpy as np\n",
    "\n",
    "#extract the data \n",
    "url = 'https://www.bundestag.de/resource/blob/915646/552d8629012162f1bd35c703015e58b6/20060-data.xml'\n",
    "\n",
    "link = requests.get(url)\n",
    "\n",
    "r = BeautifulSoup(link.content, features=\"xml\")\n",
    "r.find_all('rede')[1].find('title')\n",
    "\n",
    "#print(data)\n",
    "\n",
    "\n"
   ]
  },
  {
   "cell_type": "code",
   "execution_count": 134,
   "id": "895e36e9",
   "metadata": {},
   "outputs": [],
   "source": [
    "dff = pd.DataFrame(columns= ['speaker_in', 'speech'])"
   ]
  },
  {
   "cell_type": "markdown",
   "id": "0c90eec4",
   "metadata": {},
   "source": [
    "### For each element, get the name of the speaker, and a single string containing everything that they said. Put this into a dataframe. "
   ]
  },
  {
   "cell_type": "code",
   "execution_count": 135,
   "id": "711d8bd1",
   "metadata": {},
   "outputs": [
    {
     "data": {
      "text/html": [
       "<div>\n",
       "<style scoped>\n",
       "    .dataframe tbody tr th:only-of-type {\n",
       "        vertical-align: middle;\n",
       "    }\n",
       "\n",
       "    .dataframe tbody tr th {\n",
       "        vertical-align: top;\n",
       "    }\n",
       "\n",
       "    .dataframe thead th {\n",
       "        text-align: right;\n",
       "    }\n",
       "</style>\n",
       "<table border=\"1\" class=\"dataframe\">\n",
       "  <thead>\n",
       "    <tr style=\"text-align: right;\">\n",
       "      <th></th>\n",
       "      <th>speaker_in</th>\n",
       "      <th>speech</th>\n",
       "    </tr>\n",
       "  </thead>\n",
       "  <tbody>\n",
       "    <tr>\n",
       "      <th>0</th>\n",
       "      <td>Hubertus Heil</td>\n",
       "      <td>Meine sehr geehrte Frau Präsidentin! Liebe Kol...</td>\n",
       "    </tr>\n",
       "    <tr>\n",
       "      <th>1</th>\n",
       "      <td>Stephan Stracke</td>\n",
       "      <td>Frau Präsidentin! Meine sehr verehrten Damen u...</td>\n",
       "    </tr>\n",
       "    <tr>\n",
       "      <th>2</th>\n",
       "      <td>Beate Müller-Gemmeke</td>\n",
       "      <td>Sehr geehrte Frau Präsidentin! Sehr geehrter H...</td>\n",
       "    </tr>\n",
       "    <tr>\n",
       "      <th>3</th>\n",
       "      <td>Gerrit Huy</td>\n",
       "      <td>Frau Präsidentin! Meine Damen und Herren! Die ...</td>\n",
       "    </tr>\n",
       "    <tr>\n",
       "      <th>4</th>\n",
       "      <td>Jens Teutrine</td>\n",
       "      <td>Sehr geehrte Frau Präsidentin! Liebe Kolleginn...</td>\n",
       "    </tr>\n",
       "    <tr>\n",
       "      <th>...</th>\n",
       "      <td>...</td>\n",
       "      <td>...</td>\n",
       "    </tr>\n",
       "    <tr>\n",
       "      <th>140</th>\n",
       "      <td>Jan Wenzel Schmidt</td>\n",
       "      <td>Sehr geehrter Herr Präsident! Werte Kollegen! ...</td>\n",
       "    </tr>\n",
       "    <tr>\n",
       "      <th>141</th>\n",
       "      <td>Dr. Sebastian Schäfer</td>\n",
       "      <td>Sehr geehrter Herr Präsident! Sehr geehrte Kol...</td>\n",
       "    </tr>\n",
       "    <tr>\n",
       "      <th>142</th>\n",
       "      <td>Christian Görke</td>\n",
       "      <td>Herr Präsident! Liebe Kolleginnen und Kollegen...</td>\n",
       "    </tr>\n",
       "    <tr>\n",
       "      <th>143</th>\n",
       "      <td>Christian Hirte</td>\n",
       "      <td>Sehr geehrter Herr Präsident! Meine sehr geehr...</td>\n",
       "    </tr>\n",
       "    <tr>\n",
       "      <th>144</th>\n",
       "      <td>Timon Gremmels</td>\n",
       "      <td>So sehr wir nun alle Anstrengungen auf den bes...</td>\n",
       "    </tr>\n",
       "  </tbody>\n",
       "</table>\n",
       "<p>145 rows × 2 columns</p>\n",
       "</div>"
      ],
      "text/plain": [
       "                speaker_in                                             speech\n",
       "0            Hubertus Heil  Meine sehr geehrte Frau Präsidentin! Liebe Kol...\n",
       "1          Stephan Stracke  Frau Präsidentin! Meine sehr verehrten Damen u...\n",
       "2     Beate Müller-Gemmeke  Sehr geehrte Frau Präsidentin! Sehr geehrter H...\n",
       "3               Gerrit Huy  Frau Präsidentin! Meine Damen und Herren! Die ...\n",
       "4            Jens Teutrine  Sehr geehrte Frau Präsidentin! Liebe Kolleginn...\n",
       "..                     ...                                                ...\n",
       "140     Jan Wenzel Schmidt  Sehr geehrter Herr Präsident! Werte Kollegen! ...\n",
       "141  Dr. Sebastian Schäfer  Sehr geehrter Herr Präsident! Sehr geehrte Kol...\n",
       "142        Christian Görke  Herr Präsident! Liebe Kolleginnen und Kollegen...\n",
       "143        Christian Hirte  Sehr geehrter Herr Präsident! Meine sehr geehr...\n",
       "144         Timon Gremmels  So sehr wir nun alle Anstrengungen auf den bes...\n",
       "\n",
       "[145 rows x 2 columns]"
      ]
     },
     "execution_count": 135,
     "metadata": {},
     "output_type": "execute_result"
    }
   ],
   "source": [
    "for rede in r.find_all('rede'):\n",
    "    if rede.find('titel') != None:\n",
    "        title = rede.find('titel').text\n",
    "    else:\n",
    "        title = ''\n",
    "    if rede.find('vorname') != None:\n",
    "        name = rede.find('vorname').text\n",
    "    else:\n",
    "        name = ''\n",
    "    if rede.find('nachname') != None:\n",
    "        surname =  rede.find('nachname').text\n",
    "    else:\n",
    "        surname = ''\n",
    "    speaker = title + ' ' + name + ' ' + surname\n",
    "    content = ''\n",
    "    speeches = rede.find_all(klasse = ['J', 'O', 'J_1'])\n",
    "    for p in speeches:\n",
    "        content += p.text\n",
    "    \n",
    "    d = {'speaker_in' : speaker, 'speech' : content}\n",
    "\n",
    "    dff = dff.append(d, ignore_index=True)\n",
    "\n",
    "dff\n"
   ]
  },
  {
   "cell_type": "markdown",
   "id": "2c8a1da7",
   "metadata": {},
   "source": [
    "### Print the number of speeches, and the content of the first speech, by a politician of your choice."
   ]
  },
  {
   "cell_type": "code",
   "execution_count": 136,
   "id": "f42e6dbb",
   "metadata": {},
   "outputs": [],
   "source": [
    "#look at the politicians with \n",
    "#for s in dff.speaker_in: \n",
    "    #print (s)"
   ]
  },
  {
   "cell_type": "markdown",
   "id": "6c68d750",
   "metadata": {},
   "source": [
    "choose a politician: I chose Hanna Steinmüller, member of Die Grüne"
   ]
  },
  {
   "cell_type": "code",
   "execution_count": 137,
   "id": "e4dc3891",
   "metadata": {
    "scrolled": true
   },
   "outputs": [
    {
     "name": "stdout",
     "output_type": "stream",
     "text": [
      "2\n",
      "Vielen Dank, Frau Präsidentin. – Liebe Kolleginnen und Kollegen! Herr Kießling, ich habe wirklich zugehört. Es ging um das 9‑Euro-Ticket und das\n",
      "                    Bürgergeld. Das war ein buntes Potpourri. Zum Wohngeld habe ich nicht so viel gehört. Deswegen probiere ich es jetzt noch einmal mit dem Wohngeld, worum es bei\n",
      "                    diesem Tagesordnungspunkt ja geht.Wir wollen sozial gemischte Kieze. Das Wohngeld wurde eingeführt, um zu ermöglichen, dass sich Menschen mit niedrigem Einkommen auf dem freien\n",
      "                    Wohnungsmarkt eine Wohnung leisten können und da wohnen, wo sie es wollen. Das ist die Idee des Wohngeldes, und die gilt noch immer, auch wenn wir jetzt zu\n",
      "                    Recht viel über Entlastungen und die Folgen von Putins Angriffskrieg diskutiert haben, die zu steigenden Energiepreisen und anderen Preisexplosionen führen.\n",
      "                    Also, beim Wohngeld geht es darum, dass wir sozial gemischte Kieze erhalten.Wir machen die größte Wohngeldreform der Geschichte der Bundesrepublik. Von ihr profitieren 2 Millionen Haushalte in ganz Deutschland: Rentner und\n",
      "                    Rentnerinnen, Alleinerziehende, Familien, Studierende, Azubis und Menschen mit kleinem Einkommen.Mit Verena Hubertz sind wir gerade in Trier gewesen. Ich möchte mal in Berlin bleiben. Was bedeutet das Wohngeld konkret? Was bedeutet es für die\n",
      "                    Rentnerin in Berlin, die eine Miete von 550 Euro hat und ein Gesamteinkommen von 1 200 Euro? Sie hat bisher Anspruch auf 16 Euro Wohngeld. Sehr berechtigt\n",
      "                    können wir davon ausgehen, dass sie das vermutlich nicht beantragt hat. Der Aufwand steht in keinem Verhältnis zu 16 Euro im Monat; das heißt, wahrscheinlich\n",
      "                    nutzt sie es nicht. Nach der Reform bekommt sie 212 Euro Wohngeld; das ist fast die Hälfte ihrer Miete.Wir wandern weiter, weil Berlin ja nicht der Nabel der Republik ist. Was bedeutet es für eine Familie in Heidelberg, zwei Elternteile, ein Kind,\n",
      "                    Miete: 900 Euro, Einkommen: 2 800 Euro brutto? Sie haben bisher keinen Anspruch auf Wohngeld; nach der Reform sind es 311 Euro. Es macht also einen Unterschied.\n",
      "                    Es bedeutet auch, dass sich – ich schaue zu meinem Kollegen Kassem Taher Saleh – beispielsweise die Alleinerziehende in Dresden ihre Wohnung noch leisten kann\n",
      "                    und nicht umziehen muss. Das ist eine ganz wichtige Veränderung durch die Reform des Wohngeldes.Heute ist jedoch die erste Lesung des Wohngeld-Plus-Gesetzes. Es gilt das Struckʼsche Gesetz. Auch wir möchten noch einige Dinge ändern.Eines wurde heute schon vielfach thematisiert, nämlich die Frage, wie wir es schaffen, dass wir die Mitarbeiterinnen und Mitarbeiter in den\n",
      "                    Wohngeldstellen, die wirklich wichtige Arbeit leisten, nicht überfordern. Da müssten wir gemeinsam als Ampel überlegen – es gibt viele Vorschläge –, wie wir das\n",
      "                    noch einfacher machen können. Das sind wir den Mitarbeiterinnen und Mitarbeitern schuldig.Ich als Grüne habe noch einen zweiten Punkt. So, wie die Klimakomponente in diesem Gesetzentwurf ausgestaltet ist, hat sie mit einem sozialen\n",
      "                    Ausgleich für energetische Sanierung noch nicht so viel zu tun.Wir sind in der Situation, dass wir sehr schnell die Reform durchbringen müssen, weil wir sehr schnell Menschen entlasten wollen; das ist richtig.\n",
      "                    Aber ich finde, wir müssen trotzdem noch mal überlegen, was man da noch drehen kann, oder notfalls bei der nächsten Evaluierung eine Klimakomponente einführen,\n",
      "                    die ihrem Namen wirklich gerecht wird.Liebe Kolleginnen und Kollegen, unser Ziel beim Wohngeld ist, dass die soziale Mischung erhalten bleibt. Dafür nehmen wir, ehrlich gesagt, ganz schön\n",
      "                    viel Geld in die Hand, um Mieten zu subventionieren. Aber es gibt auch andere Wege, dieses Ziel zu erreichen, und an denen müssen wir genauso arbeiten. Wir\n",
      "                    brauchen eine neue Wohngemeinnützigkeit, damit wir dauerhaft bezahlbaren Wohnraum zur Verfügung stellen.Und wir müssen das Vorkaufsrecht wieder rechtssicher einführen, damit Mieterinnen und Mieter nicht weiter verdrängt werden. Dafür werden wir Grüne uns\n",
      "                    in der Koalition weiter einsetzen. Ich freue mich auf die Beratung von Heizkostenzuschuss- und Wohngeld-Plus-Gesetz.Vielen Dank.Vielen Dank. – Und jetzt kommt Anne König für die CDU/CSU-Fraktion.\n"
     ]
    }
   ],
   "source": [
    "#Number of speeches:     \n",
    "count=0\n",
    "speeches=[]\n",
    "for s, p  in zip(dff.speaker_in, dff.speech):\n",
    "    if s==\" Hanna Steinmüller\":\n",
    "        count+=1 \n",
    "        speeches.append(p)\n",
    "        \n",
    "\n",
    "print(count)\n",
    "print(speeches[0])  \n"
   ]
  },
  {
   "cell_type": "markdown",
   "id": "f2fadca0",
   "metadata": {},
   "source": [
    "### Using a regular expression, get a list of words spoken in your parliamentary protocol that contain (in upper or lower case) the string “kohle” (coal). Show the number of occurrences of each of these words. If there are no mentions in the debate you have selected, try another protocol.\n"
   ]
  },
  {
   "cell_type": "code",
   "execution_count": 138,
   "id": "0bacd4e3",
   "metadata": {},
   "outputs": [
    {
     "data": {
      "text/plain": [
       "{'Kohle': 2,\n",
       " 'Kohlekraftwerke': 2,\n",
       " 'Kohleausstieg': 1,\n",
       " 'Braunkohlekraftwerke': 1,\n",
       " 'Kohlestrom': 1}"
      ]
     },
     "execution_count": 138,
     "metadata": {},
     "output_type": "execute_result"
    }
   ],
   "source": [
    "import string \n",
    "protocol=[]\n",
    "\n",
    "for s in dff.speech: \n",
    "    protocol.append(s)\n",
    "\n",
    "protocol=' '.join(protocol).translate(str.maketrans('','', string.punctuation))\n",
    "\n",
    "reg = re.compile(\".*(?i)(kohle){1}(?i)[A-Za-z]?\")\n",
    "\n",
    "matches=[]\n",
    "for item in protocol.split(\" \"):\n",
    "    if re.match(reg, item) != None:\n",
    "        matches.append(item)\n",
    "        #print(item)\n",
    "\n",
    "d = {x:matches.count(x) for x in matches}\n",
    "\n",
    "d"
   ]
  }
 ],
 "metadata": {
  "kernelspec": {
   "display_name": "Python 3 (ipykernel)",
   "language": "python",
   "name": "python3"
  },
  "language_info": {
   "codemirror_mode": {
    "name": "ipython",
    "version": 3
   },
   "file_extension": ".py",
   "mimetype": "text/x-python",
   "name": "python",
   "nbconvert_exporter": "python",
   "pygments_lexer": "ipython3",
   "version": "3.9.7"
  }
 },
 "nbformat": 4,
 "nbformat_minor": 5
}
